{
 "cells": [
  {
   "cell_type": "code",
   "execution_count": 1,
   "metadata": {},
   "outputs": [],
   "source": [
    "import pandas as pd\n",
    "import numpy as np\n",
    "import matplotlib.pyplot as plt\n",
    "import seaborn as sns\n",
    "from scipy import stats"
   ]
  },
  {
   "cell_type": "code",
   "execution_count": 2,
   "metadata": {},
   "outputs": [],
   "source": [
    "df = pd.read_csv('~/Downloads/creditcardmarketing-bbm.csv')"
   ]
  },
  {
   "cell_type": "code",
   "execution_count": 3,
   "metadata": {},
   "outputs": [],
   "source": [
    "dp = df.dropna()\n"
   ]
  },
  {
   "cell_type": "markdown",
   "metadata": {},
   "source": [
    "1. We are stablishing a statistical analysis whether household size has a significant impact on accepting offer.\n",
    "\n",
    "Null Hypothesis: ph=pl\n",
    "\n",
    "Alternative Hypothesis : ph $\\ne$ pl\n",
    "\n",
    "$\\alpha$=0.05"
   ]
  },
  {
   "cell_type": "code",
   "execution_count": 5,
   "metadata": {},
   "outputs": [
    {
     "data": {
      "image/png": "[encoded data removed]",
      "text/plain": [
       "<Figure size 432x288 with 2 Axes>"
      ]
     },
     "metadata": {
      "needs_background": "light"
     },
     "output_type": "display_data"
    }
   ],
   "source": [
    "plt.subplot(1, 2, 1)\n",
    "\n",
    "_ = plt.hist(a['Household Size'], label='No')\n",
    "plt.legend('N')\n",
    "plt.subplot(1, 2, 2)\n",
    "\n",
    "_ = plt.hist(g['Household Size'])\n",
    "plt.legend('Y')\n",
    "\n",
    "#ali = dp[dp['Offer Accepted'] == 'Yes']\n",
    "# _ = plt.hist(g['Reward'])\n",
    "plt.show()"
   ]
  },
  {
   "cell_type": "code",
   "execution_count": 13,
   "metadata": {},
   "outputs": [
    {
     "data": {
      "text/plain": [
       "'Air Miles'"
      ]
     },
     "execution_count": 13,
     "metadata": {},
     "output_type": "execute_result"
    }
   ],
   "source": []
  },
  {
   "cell_type": "code",
   "execution_count": 32,
   "metadata": {},
   "outputs": [
    {
     "data": {
      "text/plain": [
       "0.056087629752824456"
      ]
     },
     "execution_count": 32,
     "metadata": {},
     "output_type": "execute_result"
    }
   ],
   "source": [
    "#Proportion of yes offer accepted with 2 or more household size\n",
    "H_size = dp.loc[dp['Household Size'] >=2].count()\n",
    "Yes_H = dp[(dp['Household Size'] >= 2) & (dp['Offer Accepted'] == 'Yes')].count()\n",
    "ph = Yes_H[0]/H_size[0]\n",
    "ph"
   ]
  },
  {
   "cell_type": "code",
   "execution_count": 33,
   "metadata": {},
   "outputs": [
    {
     "data": {
      "text/plain": [
       "0.07977736549165121"
      ]
     },
     "execution_count": 33,
     "metadata": {},
     "output_type": "execute_result"
    }
   ],
   "source": [
    "#Proportion of yes offer accepted with less than 2 household size\n",
    "L_size = dp.loc[dp['Household Size'] < 2].count()\n",
    "Yes_L = dp[(dp['Household Size'] < 2) & (dp['Offer Accepted'] == 'Yes')].count()\n",
    "pl = Yes_L[0]/L_size[0]\n",
    "pl"
   ]
  },
  {
   "cell_type": "code",
   "execution_count": 34,
   "metadata": {},
   "outputs": [
    {
     "data": {
      "text/plain": [
       "0.05679795282599021"
      ]
     },
     "execution_count": 34,
     "metadata": {},
     "output_type": "execute_result"
    }
   ],
   "source": [
    "# Pooled sample\n",
    "p = (ph*H_size[0]+pl*L_size[0])/(H_size[0]+L_size[0])\n",
    "p"
   ]
  },
  {
   "cell_type": "code",
   "execution_count": 35,
   "metadata": {},
   "outputs": [
    {
     "name": "stdout",
     "output_type": "stream",
     "text": [
      "z: 2.3403200004355633\n",
      "pvalue: 0.019267223444744793\n"
     ]
    }
   ],
   "source": [
    "SE = np.sqrt((p*(1-p))*((1/H_size[0])+(1/L_size[0])))\n",
    "prop_diff = pl-ph\n",
    "z = prop_diff/SE\n",
    "pvalue = stats.norm.cdf(-z) * 2\n",
    "print('z:', str(z))\n",
    "print('pvalue:', str(pvalue))"
   ]
  },
  {
   "cell_type": "markdown",
   "metadata": {},
   "source": [
    " Since the pvalue is less than $\\alpha$ therefore we reject the null hypothesis. The hosuhold Size may have a significant impact on accepting the offer."
   ]
  },
  {
   "cell_type": "markdown",
   "metadata": {},
   "source": [
    "2. We are stablishing a statistical analysis whether # Bank accounts open has a significant impact on accepting offer.\n",
    "\n",
    "Null Hypothesis : pa = pb\n",
    "\n",
    "Alternative Hypothesis : pa $\\ne$ pb"
   ]
  },
  {
   "cell_type": "code",
   "execution_count": 52,
   "metadata": {},
   "outputs": [
    {
     "data": {
      "text/plain": [
       "0.05718270571827057"
      ]
     },
     "execution_count": 52,
     "metadata": {},
     "output_type": "execute_result"
    }
   ],
   "source": [
    "#Proportion of yes offer accepted with more 1 bank accounts\n",
    "A_size = dp.loc[dp['# Bank Accounts Open'] >1].count()\n",
    "Yes_A = dp[(dp['# Bank Accounts Open'] > 1) & (dp['Offer Accepted'] == 'Yes')].count()\n",
    "pa = Yes_A[0]/A_size[0]\n",
    "pa"
   ]
  },
  {
   "cell_type": "code",
   "execution_count": 51,
   "metadata": {},
   "outputs": [
    {
     "data": {
      "text/plain": [
       "0.05667690507532543"
      ]
     },
     "execution_count": 51,
     "metadata": {},
     "output_type": "execute_result"
    }
   ],
   "source": [
    "#Proportion of yes offer accepted with 1 bank accounts\n",
    "B_size = dp.loc[dp['# Bank Accounts Open'] ==1].count()\n",
    "Yes_B = dp[(dp['# Bank Accounts Open'] ==1) & (dp['Offer Accepted'] == 'Yes')].count()\n",
    "pb = Yes_B[0]/B_size[0]\n",
    "pb"
   ]
  },
  {
   "cell_type": "code",
   "execution_count": 38,
   "metadata": {},
   "outputs": [
    {
     "data": {
      "text/plain": [
       "0.05679795282599021"
      ]
     },
     "execution_count": 38,
     "metadata": {},
     "output_type": "execute_result"
    }
   ],
   "source": [
    "# Pooled sample\n",
    "p = (pa*A_size[0]+pb*B_size[0])/(A_size[0]+B_size[0])\n",
    "p"
   ]
  },
  {
   "cell_type": "code",
   "execution_count": 39,
   "metadata": {},
   "outputs": [
    {
     "name": "stdout",
     "output_type": "stream",
     "text": [
      "z: 0.1250106834336039\n",
      "p: 0.900515092534129\n"
     ]
    }
   ],
   "source": [
    "SEb = np.sqrt((p*(1-p))*(1/A_size[0]+1/B_size[0]))\n",
    "prop_diff = pa-pb\n",
    "zb = prop_diff/SEb\n",
    "pbvalue = stats.norm.cdf(-zb) * 2\n",
    "print('z:', str(zb))\n",
    "print('p:', str(pbvalue))"
   ]
  },
  {
   "cell_type": "markdown",
   "metadata": {},
   "source": [
    "Since the pvalue is greater than $\\alpha$ therefore we fail to reject the null hypothesis."
   ]
  },
  {
   "cell_type": "markdown",
   "metadata": {},
   "source": [
    "We are stablishing a statistical analysis whether # credit cards has a significant impact on accepting offer.\n",
    "\n",
    "Null Hypothesis : pcm = pcl\n",
    "\n",
    "Alternative Hypothesis : pcm $\\ne$ pcl"
   ]
  },
  {
   "cell_type": "code",
   "execution_count": 47,
   "metadata": {},
   "outputs": [
    {
     "data": {
      "text/plain": [
       "0.05579507988840984"
      ]
     },
     "execution_count": 47,
     "metadata": {},
     "output_type": "execute_result"
    }
   ],
   "source": [
    "#Proportion of yes offer accepted with 1 or more credit cards held\n",
    "M_size = dp.loc[dp['# Credit Cards Held'] >1].count()\n",
    "Yes_M = dp[(dp['# Credit Cards Held'] >1) & (dp['Offer Accepted'] == 'Yes')].count()\n",
    "pcm = Yes_M[0]/M_size[0]\n",
    "pcm"
   ]
  },
  {
   "cell_type": "code",
   "execution_count": 50,
   "metadata": {},
   "outputs": [
    {
     "data": {
      "text/plain": [
       "0.05872783471612168"
      ]
     },
     "execution_count": 50,
     "metadata": {},
     "output_type": "execute_result"
    }
   ],
   "source": [
    "#Proportion of yes offer accepted with 1 credit cards held\n",
    "L_size = dp.loc[dp['# Credit Cards Held'] ==1].count()\n",
    "Yes_L = dp[(dp['# Credit Cards Held'] ==1) & (dp['Offer Accepted'] == 'Yes')].count()\n",
    "pcl = Yes_L[0]/L_size[0]\n",
    "pcl\n"
   ]
  },
  {
   "cell_type": "code",
   "execution_count": 49,
   "metadata": {},
   "outputs": [
    {
     "data": {
      "text/plain": [
       "0.05679795282599021"
      ]
     },
     "execution_count": 49,
     "metadata": {},
     "output_type": "execute_result"
    }
   ],
   "source": [
    "# Pooled sample\n",
    "p = (pcm*M_size[0]+pcl*L_size[0])/(M_size[0]+L_size[0])\n",
    "p"
   ]
  },
  {
   "cell_type": "code",
   "execution_count": 44,
   "metadata": {},
   "outputs": [
    {
     "name": "stdout",
     "output_type": "stream",
     "text": [
      "z: -0.8058721409269997\n",
      "p: 1.5796834237704593\n"
     ]
    }
   ],
   "source": [
    "SEc = np.sqrt((p*(1-p))*(1/M_size[0]+1/L_size[0]))\n",
    "prop_diff = pcm-pcl\n",
    "zc = prop_diff/SEc\n",
    "pcvalue = stats.norm.cdf(-zc) * 2\n",
    "print('z:', str(zc))\n",
    "print('p:', str(pcvalue))"
   ]
  },
  {
   "cell_type": "markdown",
   "metadata": {},
   "source": [
    "Since the pvalue is greater than  α\n",
    "  therefore we fail to reject the null hypothesis."
   ]
  },
  {
   "cell_type": "code",
   "execution_count": 234,
   "metadata": {},
   "outputs": [
    {
     "data": {
      "text/plain": [
       "<matplotlib.collections.PathCollection at 0x1a1b362160>"
      ]
     },
     "execution_count": 234,
     "metadata": {},
     "output_type": "execute_result"
    },
    {
     "data": {
      "image/png": "[encoded data removed]",
      "text/plain": [
       "<Figure size 432x288 with 1 Axes>"
      ]
     },
     "metadata": {
      "needs_background": "light"
     },
     "output_type": "display_data"
    }
   ],
   "source": [
    "XX = dp[dp['Offer Accepted'] == 'Yes']['Household Size']\n",
    "\n",
    "YY = dp[dp['Offer Accepted'] == 'Yes']['# Bank Accounts Open']\n",
    "plt.xlabel('Household size')\n",
    "plt.ylabel('Bank Accounts Open')\n",
    "\n",
    "\n",
    "plt.scatter(XX,YY)"
   ]
  },
  {
   "cell_type": "code",
   "execution_count": 238,
   "metadata": {},
   "outputs": [
    {
     "data": {
      "text/plain": [
       "<matplotlib.collections.PathCollection at 0x1a1925df98>"
      ]
     },
     "execution_count": 238,
     "metadata": {},
     "output_type": "execute_result"
    },
    {
     "data": {
      "image/png": "[encoded data removed]",
      "text/plain": [
       "<Figure size 432x288 with 1 Axes>"
      ]
     },
     "metadata": {
      "needs_background": "light"
     },
     "output_type": "display_data"
    }
   ],
   "source": [
    "XX = dp[dp['Offer Accepted'] == 'Yes']['Credit Rating']\n",
    "YY = dp[dp['Offer Accepted'] == 'Yes']['Household Size']\n",
    "plt.xlabel('Household size')\n",
    "plt.ylabel('Credit crads Hold')\n",
    "plt.scatter(XX,YY)"
   ]
  },
  {
   "cell_type": "markdown",
   "metadata": {},
   "source": [
    "We are stablishing a statistical analysis whether Income Level has a significant impact on accepting offer.\n",
    "Null Hypothesis : ph = pml\n",
    "Alternative Hypothesis : ph\n",
    "≠pml"
   ]
  },
  {
   "cell_type": "code",
   "execution_count": 67,
   "metadata": {},
   "outputs": [
    {
     "data": {
      "text/plain": [
       "0.036512502766098694"
      ]
     },
     "execution_count": 67,
     "metadata": {},
     "output_type": "execute_result"
    }
   ],
   "source": [
    "# Proportion of yes offer accepted with High income level\n",
    "h = dp.loc[dp['Income Level'] == 'High'].count()\n",
    "Yes_High_i = dp[(dp['Offer Accepted'] == 'Yes') & (dp['Income Level'] == 'High')].count()\n",
    "ph = Yes_High_i[0]/h[0]\n",
    "ph"
   ]
  },
  {
   "cell_type": "code",
   "execution_count": 68,
   "metadata": {},
   "outputs": [
    {
     "data": {
      "text/plain": [
       "0.06361001709147655"
      ]
     },
     "execution_count": 68,
     "metadata": {},
     "output_type": "execute_result"
    }
   ],
   "source": [
    "# Proportion of yes offer accepted with Medium & Low income level\n",
    "ml = dp.loc[dp['Income Level'].isin(['Medium', 'Low'])].count()\n",
    "Yes_Medium_Low = dp[(dp['Offer Accepted'] == 'Yes') & (dp['Income Level'].isin(['Medium', 'Low']))].count()\n",
    "pml = Yes_Medium_Low[0]/ml[0]\n",
    "pml"
   ]
  },
  {
   "cell_type": "code",
   "execution_count": 80,
   "metadata": {},
   "outputs": [
    {
     "data": {
      "text/plain": [
       "0.05679795282599021"
      ]
     },
     "execution_count": 80,
     "metadata": {},
     "output_type": "execute_result"
    }
   ],
   "source": [
    "# Pooled sample\n",
    "pi = (ph*h[0]+pml*ml[0])/(h[0]+ml[0])\n",
    "pi"
   ]
  },
  {
   "cell_type": "code",
   "execution_count": 81,
   "metadata": {},
   "outputs": [
    {
     "name": "stdout",
     "output_type": "stream",
     "text": [
      "z: -6.809410452299263\n",
      "p: 1.9999999999902\n"
     ]
    }
   ],
   "source": [
    "SEi = np.sqrt((pi*(1-pi))*(1/h[0]+1/ml[0]))\n",
    "prop_diffi = ph-pml\n",
    "zi = prop_diffi/SEi\n",
    "pivalue = stats.norm.cdf(-zi) * 2\n",
    "print('z:', str(zi))\n",
    "print('p:', str(pivalue))"
   ]
  },
  {
   "cell_type": "markdown",
   "metadata": {},
   "source": [
    "Since the pvalue is greater than α therefore we fail to reject the null hypothesis."
   ]
  },
  {
   "cell_type": "markdown",
   "metadata": {},
   "source": [
    "We are stablishing a statistical analysis whether Credit Rate has a significant impact on accepting offer. Null Hypothesis : phr = pmlr Alternative Hypothesis : phr ≠pmlr"
   ]
  },
  {
   "cell_type": "code",
   "execution_count": 74,
   "metadata": {},
   "outputs": [
    {
     "data": {
      "text/plain": [
       "0.01962401055408971"
      ]
     },
     "execution_count": 74,
     "metadata": {},
     "output_type": "execute_result"
    }
   ],
   "source": [
    "# Proportion of yes offer that has High credit rating\n",
    "hr = dp.loc[dp['Credit Rating'] == 'High'].count()\n",
    "Yes_High = dp[(dp['Offer Accepted'] == 'Yes') & (dp['Credit Rating'] == 'High')].count()\n",
    "phr = Yes_High[0]/hr[0]\n",
    "phr"
   ]
  },
  {
   "cell_type": "code",
   "execution_count": 75,
   "metadata": {},
   "outputs": [
    {
     "data": {
      "text/plain": [
       "0.07572196104768301"
      ]
     },
     "execution_count": 75,
     "metadata": {},
     "output_type": "execute_result"
    }
   ],
   "source": [
    "# Proportion of yes offer that has Medium & Low creding rating\n",
    "mlr = dp.loc[dp['Credit Rating'].isin(['Medium', 'Low'])].count()\n",
    "Yes_Medium_Low_r = dp[(dp['Offer Accepted'] == 'Yes') & (dp['Credit Rating'].isin(['Medium', 'Low']))].count()\n",
    "pmlr = Yes_Medium_Low_r[0]/mlr[0]\n",
    "pmlr"
   ]
  },
  {
   "cell_type": "code",
   "execution_count": 82,
   "metadata": {},
   "outputs": [
    {
     "data": {
      "text/plain": [
       "0.05679795282599021"
      ]
     },
     "execution_count": 82,
     "metadata": {},
     "output_type": "execute_result"
    }
   ],
   "source": [
    "# Pooled sample\n",
    "pr = (phr*hr[0]+pmlr*mlr[0])/(hr[0]+mlr[0])\n",
    "pr"
   ]
  },
  {
   "cell_type": "code",
   "execution_count": 83,
   "metadata": {},
   "outputs": [
    {
     "name": "stdout",
     "output_type": "stream",
     "text": [
      "z: -15.363978655084393\n",
      "p: 2.0\n"
     ]
    }
   ],
   "source": [
    "SEr = np.sqrt((pr*(1-pr))*(1/hr[0]+1/mlr[0]))\n",
    "prop_diffr = phr-pmlr\n",
    "zr = prop_diffr/SEr\n",
    "prvalue = stats.norm.cdf(-zr) * 2\n",
    "print('z:', str(zr))\n",
    "print('p:', str(prvalue))"
   ]
  },
  {
   "cell_type": "markdown",
   "metadata": {},
   "source": [
    "Since the pvalue is greater than α therefore we fail to reject the null hypothesis."
   ]
  },
  {
   "cell_type": "code",
   "execution_count": 121,
   "metadata": {},
   "outputs": [],
   "source": [
    "a = dp[dp['Offer Accepted'] == 'No']\n",
    "g =  dp[dp['Offer Accepted'] == 'Yes']"
   ]
  },
  {
   "cell_type": "code",
   "execution_count": 31,
   "metadata": {},
   "outputs": [
    {
     "name": "stdout",
     "output_type": "stream",
     "text": [
      "{'Air Miles': 463, 'Cash Back': 206, 'Points': 352}\n"
     ]
    }
   ],
   "source": [
    "# plt.hist(g['Reward'])\n",
    "ali = g['Reward']\n",
    "asghar = {}\n",
    "for i in range(len(g['Reward'])):\n",
    "    if ali.iloc[i] in asghar:\n",
    "        asghar[ali.iloc[i]] += 1\n",
    "    else:\n",
    "        asghar[ali.iloc[i]] = 1\n",
    "\n",
    "    \n",
    "print(asghar)\n",
    "dddddd = {'Air Miles': 463, 'Cash Back': 206, 'Points': 352}\n",
    "# plt.hist(dddddd.items())"
   ]
  },
  {
   "cell_type": "markdown",
   "metadata": {},
   "source": [
    "We are stablishing a statistical analysis whether Reward(Air Miles and Cach Back) has a significant impact on accepting offer. Null Hypothesis : p_air = p_cash_back Alternative Hypothesis : p_air ≠p_cash_back"
   ]
  },
  {
   "cell_type": "code",
   "execution_count": 98,
   "metadata": {},
   "outputs": [
    {
     "data": {
      "text/plain": [
       "0.07656689267405326"
      ]
     },
     "execution_count": 98,
     "metadata": {},
     "output_type": "execute_result"
    }
   ],
   "source": [
    "#Proportion of yes offer with Air Miles Reward.\n",
    "air = dp.loc[dp['Reward'] == 'Air Miles'].count()\n",
    "i = dp[(dp['Offer Accepted'] == 'Yes') & (dp['Reward'] == 'Air Miles')].count()\n",
    "p_air = i[0]/air[0]\n",
    "p_air"
   ]
  },
  {
   "cell_type": "code",
   "execution_count": 99,
   "metadata": {},
   "outputs": [
    {
     "data": {
      "text/plain": [
       "0.03436196830692244"
      ]
     },
     "execution_count": 99,
     "metadata": {},
     "output_type": "execute_result"
    }
   ],
   "source": [
    "#Proportion of yes offer with Cash Back Reward.\n",
    "cash_back = dp.loc[dp['Reward'] == 'Cash Back'].count()\n",
    "c = dp[(dp['Offer Accepted'] == 'Yes') & (dp['Reward'] == 'Cash Back')].count()\n",
    "p_cash_back = c[0]/cash_back[0]\n",
    "p_cash_back"
   ]
  },
  {
   "cell_type": "code",
   "execution_count": 100,
   "metadata": {},
   "outputs": [
    {
     "data": {
      "text/plain": [
       "0.055555555555555566"
      ]
     },
     "execution_count": 100,
     "metadata": {},
     "output_type": "execute_result"
    }
   ],
   "source": [
    "# Pooled sample\n",
    "pac = (p_air*air[0]+p_cash_back*cash_back[0])/(air[0]+cash_back[0])\n",
    "pac"
   ]
  },
  {
   "cell_type": "code",
   "execution_count": 101,
   "metadata": {},
   "outputs": [
    {
     "name": "stdout",
     "output_type": "stream",
     "text": [
      "z: 10.109424596697488\n",
      "p: 5.017810947165288e-24\n"
     ]
    }
   ],
   "source": [
    "SEac = np.sqrt((pac*(1-pac))*(1/air[0]+1/cash_back[0]))\n",
    "prop_diffac = p_air-p_cash_back\n",
    "zac = prop_diffac/SEac\n",
    "pacvalue = stats.norm.cdf(-zac) * 2\n",
    "print('z:', str(zac))\n",
    "print('p:', str(pacvalue))"
   ]
  },
  {
   "cell_type": "markdown",
   "metadata": {},
   "source": [
    "Since the pvalue is less than $\\alpha$ , therefore we reject the hypothesis, so reward has a significant impact."
   ]
  },
  {
   "cell_type": "markdown",
   "metadata": {},
   "source": [
    "We are stablishing a statistical analysis whether Reward(Air Miles and Points) has a significant impact on accepting offer. Null Hypothesis : p_air = ppr Alternative Hypothesis : p_air ≠ppr"
   ]
  },
  {
   "cell_type": "code",
   "execution_count": 102,
   "metadata": {},
   "outputs": [
    {
     "data": {
      "text/plain": [
       "0.05931917762049208"
      ]
     },
     "execution_count": 102,
     "metadata": {},
     "output_type": "execute_result"
    }
   ],
   "source": [
    "#Proportion of yes offer with Points Reward.\n",
    "points = dp.loc[dp['Reward'] == 'Points'].count()\n",
    "pr = dp[(dp['Offer Accepted'] == 'Yes') & (dp['Reward'] == 'Points')].count()\n",
    "ppr = pr[0]/points[0]\n",
    "ppr"
   ]
  },
  {
   "cell_type": "code",
   "execution_count": 103,
   "metadata": {},
   "outputs": [
    {
     "data": {
      "text/plain": [
       "0.06802437192221017"
      ]
     },
     "execution_count": 103,
     "metadata": {},
     "output_type": "execute_result"
    }
   ],
   "source": [
    "# Pooled sample\n",
    "pap = (p_air*air[0]+ppr*points[0])/(air[0]+points[0])\n",
    "pap"
   ]
  },
  {
   "cell_type": "code",
   "execution_count": 105,
   "metadata": {},
   "outputs": [
    {
     "name": "stdout",
     "output_type": "stream",
     "text": [
      "z: 3.748817010643648\n",
      "p: 0.00017767065724274395\n"
     ]
    }
   ],
   "source": [
    "SEpap = np.sqrt((pap*(1-pap))*(1/air[0]+1/points[0]))\n",
    "prop_diffpap = p_air-ppr\n",
    "zpap = prop_diffpap/SEpap\n",
    "ppapvalue = stats.norm.cdf(-zpap) * 2\n",
    "print('z:', str(zpap))\n",
    "print('p:', str(ppapvalue))"
   ]
  },
  {
   "cell_type": "markdown",
   "metadata": {},
   "source": [
    "Since the pvalue is less than $\\alpha$, therefore we reject the null hypothesis. and the reward has a significant impact."
   ]
  },
  {
   "cell_type": "markdown",
   "metadata": {},
   "source": [
    "We are stablishing a statistical analysis whether Reward(Cash Back and Points) has a significant impact on accepting offer. Null Hypothesis : p_cash_back = ppr Alternative Hypothesis : p_cash_back ≠ppr"
   ]
  },
  {
   "cell_type": "code",
   "execution_count": 110,
   "metadata": {},
   "outputs": [
    {
     "data": {
      "text/plain": [
       "0.04677676251152653"
      ]
     },
     "execution_count": 110,
     "metadata": {},
     "output_type": "execute_result"
    }
   ],
   "source": [
    "#Pooled sample\n",
    "pcp = (ppr*points[0]+p_cash_back*cash_back[0])/(cash_back[0]+points[0])\n",
    "pcp"
   ]
  },
  {
   "cell_type": "code",
   "execution_count": 112,
   "metadata": {},
   "outputs": [
    {
     "name": "stdout",
     "output_type": "stream",
     "text": [
      "z: -6.454312310712687\n",
      "p: 1.9999999998912885\n"
     ]
    }
   ],
   "source": [
    "SEpcp = np.sqrt((pcp*(1-pcp))*(1/points[0]+1/cash_back[0]))\n",
    "prop_diffpcp = p_cash_back-ppr\n",
    "zpcp = prop_diffpcp/SEpcp\n",
    "pcppvalue = stats.norm.cdf(-zpcp) * 2\n",
    "print('z:', str(zpcp))\n",
    "print('p:', str(pcppvalue))"
   ]
  },
  {
   "cell_type": "markdown",
   "metadata": {},
   "source": [
    "Since the pvalue is greater than $\\alpha$, therefore we fail to reject the null hypothesis. These rewards may not have a significant impact."
   ]
  },
  {
   "cell_type": "markdown",
   "metadata": {},
   "source": [
    "We are stablishing a statistical analysis whether Average Balance has a significant impact on accepting offer. Null Hypothesis : p_ave_h = p_ave_l Alternative Hypothesis : p_ave_h ≠p_ave_l"
   ]
  },
  {
   "cell_type": "code",
   "execution_count": 120,
   "metadata": {},
   "outputs": [
    {
     "name": "stdout",
     "output_type": "stream",
     "text": [
      "1007.0\n"
     ]
    }
   ],
   "source": [
    "print(dp['Average Balance'].median())"
   ]
  },
  {
   "cell_type": "code",
   "execution_count": 125,
   "metadata": {},
   "outputs": [
    {
     "data": {
      "image/png": "[encoded data removed]",
      "text/plain": [
       "<Figure size 432x288 with 2 Axes>"
      ]
     },
     "metadata": {
      "needs_background": "light"
     },
     "output_type": "display_data"
    }
   ],
   "source": [
    "plt.subplot(1, 2, 1)\n",
    "_ = plt.hist(a['Average Balance'])\n",
    "plt.legend('No')\n",
    "\n",
    "plt.subplot(1, 2, 2)\n",
    "_ = plt.hist(g['Average Balance'])\n",
    "plt.legend('Yes')\n",
    "plt.show()"
   ]
  },
  {
   "cell_type": "code",
   "execution_count": 128,
   "metadata": {},
   "outputs": [
    {
     "data": {
      "text/plain": [
       "0.05707787284739521"
      ]
     },
     "execution_count": 128,
     "metadata": {},
     "output_type": "execute_result"
    }
   ],
   "source": [
    "A_size = dp.loc[dp['Average Balance'] >=1000].count()\n",
    "Yes_A = dp[(dp['Average Balance'] >=1000) & (dp['Offer Accepted'] == 'Yes')].count()\n",
    "p_ave_h = Yes_A[0]/A_size[0]\n",
    "p_ave_h"
   ]
  },
  {
   "cell_type": "code",
   "execution_count": 129,
   "metadata": {},
   "outputs": [
    {
     "data": {
      "text/plain": [
       "0.0565023447329292"
      ]
     },
     "execution_count": 129,
     "metadata": {},
     "output_type": "execute_result"
    }
   ],
   "source": [
    "Al_size = dp.loc[dp['Average Balance'] <1000].count()\n",
    "Yes_Al = dp[(dp['Average Balance'] <1000) & (dp['Offer Accepted'] == 'Yes')].count()\n",
    "p_ave_l = Yes_Al[0]/Al_size[0]\n",
    "p_ave_l"
   ]
  },
  {
   "cell_type": "code",
   "execution_count": 130,
   "metadata": {},
   "outputs": [
    {
     "data": {
      "text/plain": [
       "0.05679795282599021"
      ]
     },
     "execution_count": 130,
     "metadata": {},
     "output_type": "execute_result"
    }
   ],
   "source": [
    "pa = (p_ave_h*A_size[0]+p_ave_l*Al_size[0])/(A_size[0]+Al_size[0])\n",
    "pa"
   ]
  },
  {
   "cell_type": "code",
   "execution_count": 131,
   "metadata": {},
   "outputs": [
    {
     "name": "stdout",
     "output_type": "stream",
     "text": [
      "z: 0.16662991097402433\n",
      "p: 0.8676612571653313\n"
     ]
    }
   ],
   "source": [
    "SEpa = np.sqrt((pa*(1-pa))*(1/Al_size[0]+1/A_size[0]))\n",
    "prop_diffpa = p_ave_h-p_ave_l\n",
    "zpa = prop_diffpa/SEpa\n",
    "papvalue = stats.norm.cdf(-zpa) * 2\n",
    "print('z:', str(zpa))\n",
    "print('p:', str(papvalue))"
   ]
  },
  {
   "cell_type": "markdown",
   "metadata": {},
   "source": [
    "Since the pvalue is greater than  α\n",
    " , therefore we fail to reject the null hypothesis. Average Balance may not have a significant impact."
   ]
  },
  {
   "cell_type": "markdown",
   "metadata": {},
   "source": [
    "### Based on the ztest that I have done for variables above, and the pvalue for each, It gave me the result that Household Size and Rewards may have a significant impact on accepting offer."
   ]
  }
 ],
 "metadata": {
  "kernelspec": {
   "display_name": "Python 3",
   "language": "python",
   "name": "python3"
  },
  "language_info": {
   "codemirror_mode": {
    "name": "ipython",
    "version": 3
   },
   "file_extension": ".py",
   "mimetype": "text/x-python",
   "name": "python",
   "nbconvert_exporter": "python",
   "pygments_lexer": "ipython3",
   "version": "3.7.0"
  }
 },
 "nbformat": 4,
 "nbformat_minor": 2
}
